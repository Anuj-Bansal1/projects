{
 "cells": [
  {
   "cell_type": "code",
   "execution_count": 22,
   "id": "fbc8f95e",
   "metadata": {},
   "outputs": [],
   "source": [
    "import cv2 as cv\n",
    "import numpy as np\n",
    "import pyautogui as p"
   ]
  },
  {
   "cell_type": "code",
   "execution_count": 23,
   "id": "db894a2d",
   "metadata": {},
   "outputs": [],
   "source": [
    "res = p.size()"
   ]
  },
  {
   "cell_type": "code",
   "execution_count": 24,
   "id": "e920fb3b",
   "metadata": {},
   "outputs": [],
   "source": [
    "fourcc = cv.VideoWriter_fourcc(*'XVID')\n",
    "output = cv.VideoWriter(\".\\output.mp4\",fourcc,25,res)"
   ]
  },
  {
   "cell_type": "code",
   "execution_count": 25,
   "id": "f84fbeb2",
   "metadata": {},
   "outputs": [],
   "source": [
    "cv.namedWindow(\"live recording\",cv.WINDOW_NORMAL)\n",
    "cv.resizeWindow(\"live recording\",(500,400))"
   ]
  },
  {
   "cell_type": "code",
   "execution_count": 28,
   "id": "9c18193b",
   "metadata": {},
   "outputs": [],
   "source": [
    "while True:\n",
    "    img = p.screenshot()\n",
    "    frame = np.array(img)\n",
    "    frame = cv.cvtColor(frame,cv.COLOR_BGR2RGB)\n",
    "    output.write(frame)\n",
    "    cv.imshow(\"live recording\",frame)\n",
    "    if cv.waitKey(1) == ord(\"q\"):\n",
    "        break\n",
    "output.release()\n",
    "cv.destroyAllWindows()"
   ]
  }
 ],
 "metadata": {
  "kernelspec": {
   "display_name": "Python 3 (ipykernel)",
   "language": "python",
   "name": "python3"
  },
  "language_info": {
   "codemirror_mode": {
    "name": "ipython",
    "version": 3
   },
   "file_extension": ".py",
   "mimetype": "text/x-python",
   "name": "python",
   "nbconvert_exporter": "python",
   "pygments_lexer": "ipython3",
   "version": "3.10.5"
  }
 },
 "nbformat": 4,
 "nbformat_minor": 5
}
