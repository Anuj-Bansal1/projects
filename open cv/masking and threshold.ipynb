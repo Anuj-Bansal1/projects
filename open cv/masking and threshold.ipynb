{
 "cells": [
  {
   "cell_type": "code",
   "execution_count": 12,
   "id": "6481fed8",
   "metadata": {},
   "outputs": [],
   "source": [
    "import cv2 as cv\n",
    "import numpy as np"
   ]
  },
  {
   "cell_type": "code",
   "execution_count": 13,
   "id": "9111233b",
   "metadata": {},
   "outputs": [],
   "source": [
    "def sat(x):\n",
    "    pass"
   ]
  },
  {
   "cell_type": "code",
   "execution_count": 24,
   "id": "82931e80",
   "metadata": {},
   "outputs": [],
   "source": [
    "img = cv.imread(\".\\images.jpg\")\n",
    "img = cv.resize(img,(500,400))\n",
    "cv.namedWindow(\"saturation\")\n",
    "cv.createTrackbar(\"switch\",\"saturation\",0,1,sat)\n",
    "cv.createTrackbar(\"l_h\",\"saturation\",0,255,sat)\n",
    "\n",
    "cv.createTrackbar(\"l_s\",\"saturation\",0,255,sat)\n",
    "cv.createTrackbar(\"l_v\",\"saturation\",0,255,sat)\n",
    "cv.createTrackbar(\"u_h\",\"saturation\",255,255,sat)\n",
    "cv.createTrackbar(\"u_s\",\"saturation\",255,255,sat)\n",
    "cv.createTrackbar(\"u_v\",\"saturation\",255,255,sat)\n",
    "\n",
    "while True:\n",
    "    \n",
    "    hsv = cv.cvtColor(img,cv.COLOR_BGR2HSV)\n",
    "    \n",
    "    switch = cv.getTrackbarPos(\"switch\",\"saturation\")\n",
    "    l_h=cv.getTrackbarPos(\"l_h\",\"saturation\")\n",
    "    l_s=cv.getTrackbarPos(\"l_s\",\"saturation\")\n",
    "    l_v=cv.getTrackbarPos(\"l_v\",\"saturation\")\n",
    "    u_h=cv.getTrackbarPos(\"u_h\",\"saturation\")\n",
    "    u_s=cv.getTrackbarPos(\"u_s\",\"saturation\")\n",
    "    u_v=cv.getTrackbarPos(\"u_v\",\"saturation\")\n",
    "    \n",
    "    if cv.waitKey(1) == 27 :\n",
    "        break\n",
    "    if switch == 1:\n",
    "        mask = cv.inRange(hsv,np.array([l_h,l_s,l_v]),np.array([u_h,u_s,u_v]))\n",
    "        final = cv.bitwise_and(img,img,mask= mask)\n",
    "        a,th1 = cv.threshold(mask,50,255,cv.THRESH_BINARY_INV)\n",
    "        th2 = cv.adaptiveThreshold(mask,255,cv.ADAPTIVE_THRESH_GAUSSIAN_C,cv.THRESH_BINARY_INV,11,2)\n",
    "        cv.imshow(\"mask\",mask)\n",
    "        cv.imshow(\"th2\",th2)\n",
    "        cv.imshow(\"img\",final)   \n",
    "cv.destroyAllWindows()\n"
   ]
  }
 ],
 "metadata": {
  "kernelspec": {
   "display_name": "Python 3 (ipykernel)",
   "language": "python",
   "name": "python3"
  },
  "language_info": {
   "codemirror_mode": {
    "name": "ipython",
    "version": 3
   },
   "file_extension": ".py",
   "mimetype": "text/x-python",
   "name": "python",
   "nbconvert_exporter": "python",
   "pygments_lexer": "ipython3",
   "version": "3.10.5"
  }
 },
 "nbformat": 4,
 "nbformat_minor": 5
}
