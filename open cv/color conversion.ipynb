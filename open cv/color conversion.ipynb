{
 "cells": [
  {
   "cell_type": "code",
   "execution_count": 2,
   "id": "92175ac4",
   "metadata": {},
   "outputs": [],
   "source": [
    "import cv2 as cv"
   ]
  },
  {
   "cell_type": "code",
   "execution_count": 3,
   "id": "b6c96418",
   "metadata": {},
   "outputs": [],
   "source": [
    "#image = cv.imread(r\"C:\\Users\\HP\\Desktop\\projects\\flower dataset\\test\\Image_22.jpg\")\n",
    "#image = cv.resize(image,(880,580))\n",
    "#cv.imshow(\"image\",image)\n",
    "#cv.waitKey(0)\n",
    "#cv.destroyAllWindows()"
   ]
  },
  {
   "cell_type": "code",
   "execution_count": 4,
   "id": "24d3b81d",
   "metadata": {},
   "outputs": [],
   "source": [
    "cap = cv.VideoCapture(r\"D:\\ANIME\\8 SON\\EP.12.720p.mp4\")\n",
    "#cap = cv.VideoCapture(0)\n",
    "while cap.isOpened():\n",
    "    ret,frame = cap.read()\n",
    "    frame = cv.resize(frame,(500,300))\n",
    "    gray = cv.cvtColor(frame,cv.COLOR_BGR2GRAY)\n",
    "    \n",
    "    cv.imshow(\"gray\",gray)\n",
    "    cv.imshow(\"coloured\",frame)\n",
    "    k=cv.waitKey(25)\n",
    "    if k == ord(\"q\"):\n",
    "        break\n",
    "cap.release()\n",
    "cv.destroyAllWindows()  "
   ]
  },
  {
   "cell_type": "code",
   "execution_count": null,
   "id": "933403f6",
   "metadata": {},
   "outputs": [],
   "source": []
  }
 ],
 "metadata": {
  "kernelspec": {
   "display_name": "Python 3 (ipykernel)",
   "language": "python",
   "name": "python3"
  },
  "language_info": {
   "codemirror_mode": {
    "name": "ipython",
    "version": 3
   },
   "file_extension": ".py",
   "mimetype": "text/x-python",
   "name": "python",
   "nbconvert_exporter": "python",
   "pygments_lexer": "ipython3",
   "version": "3.10.5"
  }
 },
 "nbformat": 4,
 "nbformat_minor": 5
}
