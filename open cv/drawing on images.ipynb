{
 "cells": [
  {
   "cell_type": "code",
   "execution_count": 1,
   "id": "15c31e9e",
   "metadata": {},
   "outputs": [],
   "source": [
    "import cv2 as cv\n",
    "import numpy as np"
   ]
  },
  {
   "cell_type": "code",
   "execution_count": 18,
   "id": "8b50f799",
   "metadata": {},
   "outputs": [],
   "source": [
    "def draw(event,x,y,flags,param):\n",
    "    if event == cv.EVENT_LBUTTONDBLCLK:\n",
    "        cv.circle(img,(x,y),100,(125,0,255),4)\n",
    "    elif event == cv.EVENT_RBUTTONDBLCLK:\n",
    "        cv.rectangle(img,(x,y),(x+100,y+75),(155,233,45),5)\n",
    "img = np.zeros((512,512,3),np.uint8)\n",
    "cv.namedWindow(winname =\"img\")\n",
    "cv.setMouseCallback(\"img\",draw)\n",
    "while True:\n",
    "    cv.imshow(\"img\",img)\n",
    "    if cv.waitKey(1) == 27:\n",
    "        break\n",
    "cv.destroyAllWindows()"
   ]
  }
 ],
 "metadata": {
  "kernelspec": {
   "display_name": "Python 3 (ipykernel)",
   "language": "python",
   "name": "python3"
  },
  "language_info": {
   "codemirror_mode": {
    "name": "ipython",
    "version": 3
   },
   "file_extension": ".py",
   "mimetype": "text/x-python",
   "name": "python",
   "nbconvert_exporter": "python",
   "pygments_lexer": "ipython3",
   "version": "3.10.5"
  }
 },
 "nbformat": 4,
 "nbformat_minor": 5
}
